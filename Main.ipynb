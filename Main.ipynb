{
 "cells": [
  {
   "cell_type": "markdown",
   "metadata": {},
   "source": [
    "#  Scrape FAQs from Jupiter Contact Page using BeautifulSoup "
   ]
  },
  {
   "cell_type": "code",
   "execution_count": 4,
   "metadata": {},
   "outputs": [
    {
     "name": "stdout",
     "output_type": "stream",
     "text": [
      "✅ Scraped 11 FAQs\n",
      "                                             question  \\\n",
      "0                              What is Jupiter Money?   \n",
      "1   Is 'Jupiter Bank' approved by\\n            the...   \n",
      "2      How can I open a Savings\\n            account?   \n",
      "3                         How can I get a Debit card?   \n",
      "4   How to deposit cash in the\\n            Saving...   \n",
      "5   How can I transfer money from\\n            Jup...   \n",
      "6                                  Is Jupiter a Bank?   \n",
      "7     What is Jupiter’s Whatsapp\\n            number?   \n",
      "8   How can I apply for a credit\\n            card...   \n",
      "9   How can I get a Federal Bank\\n            pass...   \n",
      "10  How can I set a PIN for my\\n            Debit ...   \n",
      "\n",
      "                                               answer  \n",
      "0   Jupiter is the 1-app for everything money that...  \n",
      "1   Jupiter is itself not a bank and doesn’t hold ...  \n",
      "2   To open a free Savings or Salary Bank Account ...  \n",
      "3   You can order a new physical Debit Card by tap...  \n",
      "4   To deposit cash into your Savings or Salary Ba...  \n",
      "5   There are many ways to transfer money from Jup...  \n",
      "6   Jupiter is itself not a bank and doesn’t hold ...  \n",
      "7   Jupiter at the moment doesn’t offer WhatsApp s...  \n",
      "8   You can apply for the Edge Federal Bank Credit...  \n",
      "9   You can request for a passbook by visiting you...  \n",
      "10  You can set/ reset your Debit Card PIN by tapp...  \n"
     ]
    }
   ],
   "source": [
    "import requests\n",
    "from bs4 import BeautifulSoup\n",
    "import pandas as pd\n",
    "\n",
    "url = \"https://jupiter.money/contact/\"\n",
    "resp = requests.get(url)\n",
    "soup = BeautifulSoup(resp.content, \"html.parser\")\n",
    "\n",
    "faq_data = []\n",
    "ul = soup.find('ul', attrs={'data-controller': 'faq'})\n",
    "if ul:\n",
    "    for li in ul.find_all('li'):\n",
    "        btn = li.find('button')\n",
    "        if btn:\n",
    "            question_span = btn.find('span', attrs={'class': lambda x: x and 'text-black100' in x})\n",
    "            question = question_span.get_text(\" \", strip=True) if question_span else btn.get_text(\" \", strip=True)\n",
    "        else:\n",
    "            continue\n",
    "        answer_p = li.find('p', attrs={'data-faq-target': True})\n",
    "        answer = answer_p.get_text(\" \", strip=True) if answer_p else \"\"\n",
    "        if question and answer:\n",
    "            faq_data.append({'question': question, 'answer': answer})\n",
    "\n",
    "df = pd.DataFrame(faq_data)\n",
    "print(f\"✅ Scraped {len(df)} FAQs\")\n",
    "print(df)\n",
    "df.to_csv(\"all_files/final_jupiter_faqs.csv\", index=False)\n"
   ]
  },
  {
   "cell_type": "markdown",
   "metadata": {},
   "source": [
    "#  Clean and preprocess scraped FAQ data "
   ]
  },
  {
   "cell_type": "code",
   "execution_count": 6,
   "metadata": {},
   "outputs": [
    {
     "name": "stdout",
     "output_type": "stream",
     "text": [
      "Missing questions: 0, Missing answers: 0\n",
      "Rows after full cleaning: 11\n"
     ]
    },
    {
     "data": {
      "text/html": [
       "<div>\n",
       "<style scoped>\n",
       "    .dataframe tbody tr th:only-of-type {\n",
       "        vertical-align: middle;\n",
       "    }\n",
       "\n",
       "    .dataframe tbody tr th {\n",
       "        vertical-align: top;\n",
       "    }\n",
       "\n",
       "    .dataframe thead th {\n",
       "        text-align: right;\n",
       "    }\n",
       "</style>\n",
       "<table border=\"1\" class=\"dataframe\">\n",
       "  <thead>\n",
       "    <tr style=\"text-align: right;\">\n",
       "      <th></th>\n",
       "      <th>question</th>\n",
       "      <th>answer</th>\n",
       "    </tr>\n",
       "  </thead>\n",
       "  <tbody>\n",
       "    <tr>\n",
       "      <th>0</th>\n",
       "      <td>What is Jupiter Money?</td>\n",
       "      <td>Jupiter is the 1app for everything money that ...</td>\n",
       "    </tr>\n",
       "    <tr>\n",
       "      <th>1</th>\n",
       "      <td>Is 'Jupiter Bank' approved by the RBI?</td>\n",
       "      <td>Jupiter is itself not a bank and doesn’t hold ...</td>\n",
       "    </tr>\n",
       "    <tr>\n",
       "      <th>2</th>\n",
       "      <td>How can I open a Savings account?</td>\n",
       "      <td>To open a free Savings or Salary Bank Account ...</td>\n",
       "    </tr>\n",
       "    <tr>\n",
       "      <th>3</th>\n",
       "      <td>How can I get a Debit card?</td>\n",
       "      <td>You can order a new physical Debit Card by tap...</td>\n",
       "    </tr>\n",
       "    <tr>\n",
       "      <th>4</th>\n",
       "      <td>How to deposit cash in the Savings account?</td>\n",
       "      <td>To deposit cash into your Savings or Salary Ba...</td>\n",
       "    </tr>\n",
       "  </tbody>\n",
       "</table>\n",
       "</div>"
      ],
      "text/plain": [
       "                                      question  \\\n",
       "0                       What is Jupiter Money?   \n",
       "1       Is 'Jupiter Bank' approved by the RBI?   \n",
       "2            How can I open a Savings account?   \n",
       "3                  How can I get a Debit card?   \n",
       "4  How to deposit cash in the Savings account?   \n",
       "\n",
       "                                              answer  \n",
       "0  Jupiter is the 1app for everything money that ...  \n",
       "1  Jupiter is itself not a bank and doesn’t hold ...  \n",
       "2  To open a free Savings or Salary Bank Account ...  \n",
       "3  You can order a new physical Debit Card by tap...  \n",
       "4  To deposit cash into your Savings or Salary Ba...  "
      ]
     },
     "metadata": {},
     "output_type": "display_data"
    }
   ],
   "source": [
    "import pandas as pd\n",
    "import re\n",
    "\n",
    "# 1. Load raw data\n",
    "raw_df = pd.read_csv(\"all_files/final_jupiter_faqs.csv\")\n",
    "\n",
    "# 2. Data Quality Assessment\n",
    "missing_q = raw_df['question'].isnull().sum()\n",
    "missing_a = raw_df['answer'].isnull().sum()\n",
    "print(f\"Missing questions: {missing_q}, Missing answers: {missing_a}\")\n",
    "\n",
    "# 3. Cleaning and Normalization\n",
    "def clean(text):\n",
    "    text = str(text)\n",
    "    text = re.sub(r'\\s+', ' ', text)          # normalize whitespace\n",
    "    text = re.sub(r'[+\\-]', '', text)         # remove stray + or -\n",
    "    text = re.sub(r'<.*?>', '', text)         # remove HTML tags\n",
    "    text = text.strip()\n",
    "    return text\n",
    "\n",
    "raw_df['question'] = raw_df['question'].apply(clean)\n",
    "raw_df['answer']   = raw_df['answer'].apply(clean)\n",
    "\n",
    "# 4. Deduplication\n",
    "dedup_df = raw_df.drop_duplicates(subset='question').reset_index(drop=True)\n",
    "\n",
    "# 5. Remove empty or very short Q&A pairs\n",
    "final_df = dedup_df[\n",
    "    (dedup_df['question'].str.len() > 10) &\n",
    "    (dedup_df['answer'].str.len() > 15)\n",
    "].copy()\n",
    "\n",
    "# 6. Final Save & Inspection\n",
    "final_df.to_csv(\"all_files/jupiter_faqs_cleaned.csv\", index=False)\n",
    "print(f\"Rows after full cleaning: {len(final_df)}\")\n",
    "display(final_df.head())\n"
   ]
  },
  {
   "cell_type": "markdown",
   "metadata": {},
   "source": [
    "#  Generate sentence embeddings for each FAQ question "
   ]
  },
  {
   "cell_type": "code",
   "execution_count": 7,
   "metadata": {},
   "outputs": [
    {
     "name": "stderr",
     "output_type": "stream",
     "text": [
      "Batches: 100%|██████████| 1/1 [00:00<00:00, 33.56it/s]"
     ]
    },
    {
     "name": "stdout",
     "output_type": "stream",
     "text": [
      "Created 11 embeddings.\n"
     ]
    },
    {
     "name": "stderr",
     "output_type": "stream",
     "text": [
      "\n"
     ]
    }
   ],
   "source": [
    "\n",
    "\n",
    "import pandas as pd\n",
    "from sentence_transformers import SentenceTransformer\n",
    "import numpy as np\n",
    "\n",
    "# Load your cleaned FAQ CSV\n",
    "df = pd.read_csv(\"all_files/jupiter_faqs_cleaned.csv\")\n",
    "\n",
    "# Initialize the embedding model\n",
    "model = SentenceTransformer('all-MiniLM-L6-v2')  # Fast, accurate, works well for FAQ\n",
    "\n",
    "# Create embeddings for each question\n",
    "questions = df['question'].tolist()\n",
    "embeddings = model.encode(questions, show_progress_bar=True)\n",
    "\n",
    "# Optionally save embeddings to file for later use\n",
    "np.save(\"all_files/faq_question_embeddings.npy\", embeddings)\n",
    "\n",
    "print(f\"Created {len(embeddings)} embeddings.\")\n"
   ]
  },
  {
   "cell_type": "markdown",
   "metadata": {},
   "source": [
    "#  Define function to retrieve FAQ using semantic search (NumPy) "
   ]
  },
  {
   "cell_type": "code",
   "execution_count": 2,
   "metadata": {},
   "outputs": [
    {
     "name": "stdout",
     "output_type": "stream",
     "text": [
      "Retrieved Question: How can I get a Debit card?\n",
      "Retrieved Answer: You can order a new physical Debit Card by tapping on the ‘Card’ tab on the Jupiter app. While you can get a virtual Debit Card for free, you will be charged a onetime fee when ordering a physical Debit Card\n",
      "Similarity Score: 0.6820835\n"
     ]
    }
   ],
   "source": [
    "\n",
    "\n",
    "import numpy as np\n",
    "\n",
    "# Load embeddings (if not already in memory)\n",
    "faq_embeddings = np.load(\"all_files/faq_question_embeddings.npy\")\n",
    "\n",
    "# Your original DataFrame\n",
    "# df = pd.read_csv(\"jupiter_faqs_cleaned.csv\")  # Already loaded previously\n",
    "\n",
    "def retrieve_faq(user_query, model, faq_embeddings, questions, threshold=0.60, top_k=1):\n",
    "    # Embed user query\n",
    "    user_emb = model.encode([user_query])[0]\n",
    "    # Compute cosine similarities\n",
    "    sims = np.dot(faq_embeddings, user_emb) / (np.linalg.norm(faq_embeddings, axis=1) * np.linalg.norm(user_emb))\n",
    "    # Get top-k most similar indices\n",
    "    top_indices = np.argsort(sims)[-top_k:][::-1]\n",
    "    results = []\n",
    "    for idx in top_indices:\n",
    "        results.append({\n",
    "            \"question\": questions[idx],\n",
    "            \"answer\": df.iloc[idx][\"answer\"],\n",
    "            \"similarity\": sims[idx]\n",
    "        })\n",
    "    # Check if the best similarity is above threshold\n",
    "    if results[0][\"similarity\"] < threshold:\n",
    "        return None, None, results[0][\"similarity\"]\n",
    "    return results[0][\"question\"], results[0][\"answer\"], results[0][\"similarity\"]\n",
    "\n",
    "# Example usage:\n",
    "user_query = \"How do I order a credit card?\"\n",
    "retrieved_q, retrieved_a, similarity = retrieve_faq(\n",
    "    user_query, model, faq_embeddings, questions, threshold=0.60\n",
    ")\n",
    "\n",
    "print(\"Retrieved Question:\", retrieved_q)\n",
    "print(\"Retrieved Answer:\", retrieved_a)\n",
    "print(\"Similarity Score:\", similarity)\n"
   ]
  },
  {
   "cell_type": "markdown",
   "metadata": {},
   "source": [
    "#  Build a FAISS index for scalable semantic search "
   ]
  },
  {
   "cell_type": "code",
   "execution_count": 3,
   "metadata": {},
   "outputs": [
    {
     "name": "stdout",
     "output_type": "stream",
     "text": [
      "FAISS index saved to faq_faiss.index\n"
     ]
    }
   ],
   "source": [
    "import faiss\n",
    "import numpy as np\n",
    "\n",
    "faq_embeddings = np.load(\"all_files/faq_question_embeddings.npy\").astype('float32')\n",
    "faq_embeddings = faq_embeddings / np.linalg.norm(faq_embeddings, axis=1, keepdims=True)\n",
    "\n",
    "index = faiss.IndexFlatIP(faq_embeddings.shape[1])\n",
    "index.add(faq_embeddings)\n",
    "\n",
    "# Save index to file\n",
    "faiss.write_index(index, \"faq_faiss.index\")\n",
    "print(\"FAISS index saved to faq_faiss.index\")\n"
   ]
  },
  {
   "cell_type": "markdown",
   "metadata": {},
   "source": [
    "# FAISS-based retrieval function for FAQs "
   ]
  },
  {
   "cell_type": "code",
   "execution_count": 24,
   "metadata": {},
   "outputs": [
    {
     "name": "stdout",
     "output_type": "stream",
     "text": [
      "Similarity: 0.9623639583587646\n",
      "Question: Is Jupiter a Bank?\n",
      "Answer: Jupiter is itself not a bank and doesn’t hold or claim to hold a banking license. The Savings Account and VISA Debit Card are provided by Federal Bank and follows all security standards as applicable. All funds in your account are insured up to the approved limit by DICGC. Your money is always safe with Federal Bank Jupiter enables you to make smart money decisions every day using easy, intuitive, and personalized money management tools that help eliminate the stress, fear and confusion that comes with managing money. You can start using Jupiter by doing any of the following… Opening a free no minimum balance Savings Bank Account on Jupiter  powered by Federal Bank  in 3 minutes Get 5x Cashback on spends* Or, opening a free Salary Bank Account on Jupiter  powered by Federal Bank Withdraw your salary any day with OnDemand Salary Get free health insurance up to Rs. 2,00,000 Get 5x Cashback on spends*\n"
     ]
    }
   ],
   "source": [
    "\n",
    "\n",
    "def retrieve_faq_faiss(user_query, model, index, df, faq_embeddings, threshold=0.65, top_k=1):\n",
    "    user_emb = model.encode([user_query]).astype('float32')\n",
    "    user_emb = user_emb / np.linalg.norm(user_emb)\n",
    "    D, I = index.search(user_emb.reshape(1, -1), top_k)  # D = similarities, I = indices\n",
    "    similarity = float(D[0][0])\n",
    "    idx = int(I[0][0])\n",
    "    if similarity < threshold:\n",
    "        return None, None, similarity\n",
    "    return df.iloc[idx][\"question\"], df.iloc[idx][\"answer\"], similarity\n",
    "\n",
    "# Example usage\n",
    "user_query = \"Is Jupiter bank?\"\n",
    "retrieved_q, retrieved_a, similarity = retrieve_faq_faiss(\n",
    "    user_query, model, index, df, faq_embeddings, threshold=0.65\n",
    ")\n",
    "\n",
    "print(\"Similarity:\", similarity)\n",
    "print(\"Question:\", retrieved_q)\n",
    "print(\"Answer:\", retrieved_a)\n"
   ]
  },
  {
   "cell_type": "markdown",
   "metadata": {},
   "source": [
    "# Retrieve FAQ and use LLM to rephrase the answer "
   ]
  },
  {
   "cell_type": "code",
   "execution_count": 8,
   "metadata": {},
   "outputs": [
    {
     "name": "stdout",
     "output_type": "stream",
     "text": [
      "Similarity Score: 0.9864107\n",
      "Retrieved Question: How can I get a Debit card?\n",
      "Retrieved Answer: You can order a new physical Debit Card by tapping on the ‘Card’ tab on the Jupiter app. While you can get a virtual Debit Card for free, you will be charged a onetime fee when ordering a physical Debit Card\n",
      "\n",
      "LLM Bot's Answer:\n",
      "Sure thing! To get a Debit Card, simply open the Jupiter app and tap on the ‘Card’ tab. You can order a virtual Debit Card for free, but if you want a physical Debit Card, there will be a one-time fee.\n"
     ]
    }
   ],
   "source": [
    "import numpy as np\n",
    "import pandas as pd\n",
    "from sentence_transformers import SentenceTransformer\n",
    "import openai\n",
    "\n",
    "# Load your cleaned FAQ data and embeddings\n",
    "df = pd.read_csv(\"all_files/jupiter_faqs_cleaned.csv\")\n",
    "faq_embeddings = np.load(\"all_files/faq_question_embeddings.npy\")\n",
    "questions = df['question'].tolist()\n",
    "\n",
    "# Load the same embedding model as before\n",
    "model = SentenceTransformer('all-MiniLM-L6-v2')\n",
    "\n",
    "def retrieve_faq(user_query, model, faq_embeddings, questions, threshold=0.65, top_k=1):\n",
    "    user_emb = model.encode([user_query])[0]\n",
    "    sims = np.dot(faq_embeddings, user_emb) / (np.linalg.norm(faq_embeddings, axis=1) * np.linalg.norm(user_emb))\n",
    "    top_indices = np.argsort(sims)[-top_k:][::-1]\n",
    "    results = []\n",
    "    for idx in top_indices:\n",
    "        results.append({\n",
    "            \"question\": questions[idx],\n",
    "            \"answer\": df.iloc[idx][\"answer\"],\n",
    "            \"similarity\": sims[idx]\n",
    "        })\n",
    "    if results[0][\"similarity\"] < threshold:\n",
    "        return None, None, results[0][\"similarity\"]\n",
    "    return results[0][\"question\"], results[0][\"answer\"], results[0][\"similarity\"]\n",
    "\n",
    "def openai_llm_answer(user_query, retrieved_q, retrieved_a, api_key, model_name=\"gpt-3.5-turbo\"):\n",
    "    if retrieved_q is None or retrieved_a is None:\n",
    "        return \"Sorry, I don't know the answer to that. Please contact Jupiter support!\"\n",
    "    prompt = (\n",
    "        \"You are a helpful, friendly FAQ assistant for Jupiter Money (the Indian fintech app, not the planet). \"\n",
    "        \"Rephrase the FAQ answer below in a user-friendly, conversational tone, but make sure you keep all the details and information present in the original answer. \"\n",
    "        \"Do not omit any facts or steps. \"\n",
    "        \"If the answer is already clear, just return it as is. \"\n",
    "        \"If there is no relevant answer, politely say you don't know.\\n\\n\"\n",
    "        f\"User asked: {user_query}\\n\"\n",
    "        f\"FAQ question: {retrieved_q}\\n\"\n",
    "        f\"FAQ answer: {retrieved_a}\\n\"\n",
    "        \"Final user-facing answer:\"\n",
    "    )\n",
    "    client = openai.OpenAI(api_key=api_key)\n",
    "    response = client.chat.completions.create(\n",
    "        model=model_name,\n",
    "        messages=[{\"role\": \"user\", \"content\": prompt}],\n",
    "        max_tokens=300,\n",
    "        temperature=0.3\n",
    "    )\n",
    "    return response.choices[0].message.content.strip()\n",
    "\n",
    "# Example test\n",
    "openai_api_key = input(\"Enter your OpenAI API key: \")\n",
    "\n",
    "user_query = \"How can I get debit card?\"\n",
    "\n",
    "retrieved_q, retrieved_a, similarity = retrieve_faq(\n",
    "    user_query, model, faq_embeddings, questions, threshold=0.65\n",
    ")\n",
    "\n",
    "print(\"Similarity Score:\", similarity)\n",
    "print(\"Retrieved Question:\", retrieved_q)\n",
    "print(\"Retrieved Answer:\", retrieved_a)\n",
    "print(\"\\nLLM Bot's Answer:\")\n",
    "print(openai_llm_answer(user_query, retrieved_q, retrieved_a, api_key=openai_api_key))\n"
   ]
  },
  {
   "cell_type": "markdown",
   "metadata": {},
   "source": [
    "# Compare retrieval vs LLM-based answers on accuracy and latency without Multilingual support"
   ]
  },
  {
   "cell_type": "code",
   "execution_count": null,
   "metadata": {},
   "outputs": [
    {
     "name": "stdout",
     "output_type": "stream",
     "text": [
      "                                   user_query  \\\n",
      "0        How do I order a Jupiter debit card?   \n",
      "1  What is the KYC process for a new account?   \n",
      "2            Can I get cashback on purchases?   \n",
      "3          What are my daily transfer limits?   \n",
      "4               How to set a PIN for my card?   \n",
      "5            Is Jupiter an RBI-approved bank?   \n",
      "6     How can I deposit cash into my account?   \n",
      "7       How do I block my debit card if lost?   \n",
      "8             How to contact Jupiter support?   \n",
      "9    What's the process to update my address?   \n",
      "\n",
      "                                    retrieval_answer  retrieval_similarity  \\\n",
      "0  You can order a new physical Debit Card by tap...              0.731035   \n",
      "1                                               None              0.385424   \n",
      "2                                               None              0.359884   \n",
      "3                                               None              0.358048   \n",
      "4  You can set/ reset your Debit Card PIN by tapp...              0.885843   \n",
      "5  Jupiter is itself not a bank and doesn’t hold ...              0.979982   \n",
      "6  To deposit cash into your Savings or Salary Ba...              0.898334   \n",
      "7  You can order a new physical Debit Card by tap...              0.698902   \n",
      "8  There are many ways to transfer money from Jup...              0.653771   \n",
      "9                                               None              0.201129   \n",
      "\n",
      "   retrieval_time_ms                                         llm_answer  \\\n",
      "0                103  To order a Jupiter debit card, simply open the...   \n",
      "1                 48  Sorry, I don't know the answer to that. Please...   \n",
      "2                 13  Sorry, I don't know the answer to that. Please...   \n",
      "3                 17  Sorry, I don't know the answer to that. Please...   \n",
      "4                 19  To set or reset your Debit Card PIN, simply op...   \n",
      "5                 22  Jupiter is not a bank itself, but it partners ...   \n",
      "6                 54  To deposit cash into your Savings or Salary Ba...   \n",
      "7                 68  If you need to block your debit card because i...   \n",
      "8                 44  If you need to transfer money from your Jupite...   \n",
      "9                 52  Sorry, I don't know the answer to that. Please...   \n",
      "\n",
      "   llm_time_ms  \n",
      "0         1745  \n",
      "1            0  \n",
      "2            0  \n",
      "3            0  \n",
      "4         1005  \n",
      "5         1554  \n",
      "6         1261  \n",
      "7         1109  \n",
      "8         1441  \n",
      "9            0  \n"
     ]
    }
   ],
   "source": [
    "import numpy as np\n",
    "import pandas as pd\n",
    "import time\n",
    "from sentence_transformers import SentenceTransformer\n",
    "import openai\n",
    "\n",
    "# ---- CONFIG ----\n",
    "openai_api_key =  input(\"Enter your OpenAI API key: \") # <-- Set your key here for testing\n",
    "openai_llm_model = \"gpt-3.5-turbo\"\n",
    "\n",
    "# Load data and embeddings\n",
    "df = pd.read_csv(\"all_files/jupiter_faqs_cleaned.csv\")\n",
    "faq_embeddings = np.load(\"all_files/faq_question_embeddings.npy\")\n",
    "questions = df['question'].tolist()\n",
    "model = SentenceTransformer('all-MiniLM-L6-v2')\n",
    "\n",
    "def retrieval_only_answer(user_query, model, faq_embeddings, questions, df, threshold=0.65):\n",
    "    user_emb = model.encode([user_query])[0]\n",
    "    sims = np.dot(faq_embeddings, user_emb) / (np.linalg.norm(faq_embeddings, axis=1) * np.linalg.norm(user_emb))\n",
    "    idx = np.argmax(sims)\n",
    "    similarity = sims[idx]\n",
    "    if similarity < threshold:\n",
    "        return None, None, similarity\n",
    "    return questions[idx], df.iloc[idx]['answer'], similarity\n",
    "\n",
    "def openai_llm_answer(user_query, retrieved_q, retrieved_a, api_key, model_name=\"gpt-3.5-turbo\"):\n",
    "    if retrieved_q is None or retrieved_a is None:\n",
    "        return \"Sorry, I don't know the answer to that. Please contact Jupiter support!\"\n",
    "    prompt = (\n",
    "        \"You are a helpful, friendly FAQ assistant for Jupiter Money (the Indian fintech app, not the planet). \"\n",
    "        \"Rephrase the FAQ answer below in a user-friendly, conversational tone, but make sure you keep all the details and information present in the original answer. \"\n",
    "        \"Do not omit any facts or steps. \"\n",
    "        \"If the answer is already clear, just return it as is. \"\n",
    "        \"If there is no relevant answer, politely say you don't know.\\n\\n\"\n",
    "        f\"User asked: {user_query}\\n\"\n",
    "        f\"FAQ question: {retrieved_q}\\n\"\n",
    "        f\"FAQ answer: {retrieved_a}\\n\"\n",
    "        \"Final user-facing answer:\"\n",
    "    )\n",
    "    client = openai.OpenAI(api_key=api_key)\n",
    "    response = client.chat.completions.create(\n",
    "        model=model_name,\n",
    "        messages=[{\"role\": \"user\", \"content\": prompt}],\n",
    "        max_tokens=300,\n",
    "        temperature=0.3\n",
    "    )\n",
    "    return response.choices[0].message.content.strip()\n",
    "\n",
    "# --- List of diverse test queries ---\n",
    "test_queries = [\n",
    "    \"How do I order a Jupiter debit card?\",\n",
    "    \"What is the KYC process for a new account?\",\n",
    "    \"Can I get cashback on purchases?\",\n",
    "    \"What are my daily transfer limits?\",\n",
    "    \"How to set a PIN for my card?\",\n",
    "    \"Is Jupiter an RBI-approved bank?\",\n",
    "    \"How can I deposit cash into my account?\",\n",
    "    \"How do I block my debit card if lost?\",\n",
    "    \"How to contact Jupiter support?\",\n",
    "    \"What's the process to update my address?\",\n",
    "]\n",
    "\n",
    "# --- Evaluate both approaches and compare ---\n",
    "results = []\n",
    "for user_query in test_queries:\n",
    "    # Retrieval-only baseline\n",
    "    t0 = time.time()\n",
    "    ret_q, ret_a, ret_sim = retrieval_only_answer(\n",
    "        user_query, model, faq_embeddings, questions, df, threshold=0.65\n",
    "    )\n",
    "    t1 = time.time()\n",
    "    retrieval_time = (t1 - t0) * 1000  # ms\n",
    "\n",
    "    # LLM-based answer (OpenAI)\n",
    "    t2 = time.time()\n",
    "    llm_answer = openai_llm_answer(user_query, ret_q, ret_a, api_key=openai_api_key, model_name=openai_llm_model)\n",
    "    t3 = time.time()\n",
    "    llm_time = (t3 - t2) * 1000  # ms\n",
    "\n",
    "    results.append({\n",
    "        \"user_query\": user_query,\n",
    "        \"retrieval_question\": ret_q,\n",
    "        \"retrieval_answer\": ret_a,\n",
    "        \"retrieval_similarity\": ret_sim,\n",
    "        \"retrieval_time_ms\": int(retrieval_time),\n",
    "        \"llm_answer\": llm_answer,\n",
    "        \"llm_time_ms\": int(llm_time),\n",
    "    })\n",
    "\n",
    "comparison_df = pd.DataFrame(results)\n",
    "print(comparison_df[[\"user_query\", \"retrieval_answer\", \"retrieval_similarity\", \"retrieval_time_ms\", \"llm_answer\", \"llm_time_ms\"]])\n",
    "comparison_df.to_csv(\"faq_comparison_results.csv\", index=False)\n"
   ]
  },
  {
   "cell_type": "markdown",
   "metadata": {},
   "source": [
    "## Retrieval vs LLM-Based FAQ Bot: Accuracy and Latency\n",
    "\n",
    "- **Retrieval-only** (semantic search) provides accurate answers nearly instantly.\n",
    "- **LLM-based** (OpenAI) gives friendlier, more conversational answers, with slightly higher latency due to the API call.\n",
    "\n",
    "\n",
    "See the `faq_comparison_results.csv` for detailed results.\n"
   ]
  }
 ],
 "metadata": {
  "kernelspec": {
   "display_name": "new_jupy",
   "language": "python",
   "name": "python3"
  },
  "language_info": {
   "codemirror_mode": {
    "name": "ipython",
    "version": 3
   },
   "file_extension": ".py",
   "mimetype": "text/x-python",
   "name": "python",
   "nbconvert_exporter": "python",
   "pygments_lexer": "ipython3",
   "version": "3.11.6"
  },
  "orig_nbformat": 4
 },
 "nbformat": 4,
 "nbformat_minor": 2
}
